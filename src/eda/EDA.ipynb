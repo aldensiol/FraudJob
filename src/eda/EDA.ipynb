{
 "cells": [
  {
   "cell_type": "code",
   "execution_count": 1,
   "id": "ba9ab76f",
   "metadata": {},
   "outputs": [],
   "source": [
    "import pandas as pd\n",
    "df = pd.read_csv('../fake_job_postings.csv')"
   ]
  },
  {
   "cell_type": "code",
   "execution_count": 2,
   "id": "a5fec87e",
   "metadata": {},
   "outputs": [],
   "source": [
    "binary_cols = [col for col in df.columns if df[col].nunique() == 2]"
   ]
  },
  {
   "cell_type": "code",
   "execution_count": 2,
   "id": "7ca8f7b9",
   "metadata": {},
   "outputs": [
    {
     "name": "stdout",
     "output_type": "stream",
     "text": [
      "fraudulent               0      1\n",
      "job_id                0.00   0.00\n",
      "title                 0.00   0.00\n",
      "location              1.92   2.19\n",
      "department           64.75  61.32\n",
      "salary_range         84.45  74.25\n",
      "company_profile      15.99  67.78\n",
      "description           0.00   0.12\n",
      "requirements         14.94  17.78\n",
      "benefits             40.25  42.03\n",
      "telecommuting         0.00   0.00\n",
      "has_company_logo      0.00   0.00\n",
      "has_questions         0.00   0.00\n",
      "employment_type      18.98  27.83\n",
      "required_experience  38.88  50.23\n",
      "required_education   44.99  52.08\n",
      "industry             27.20  31.76\n",
      "function             35.96  38.91\n",
      "fraudulent            0.00   0.00\n"
     ]
    }
   ],
   "source": [
    "# Check for null values\n",
    "grouped_null_percentage = df.groupby('fraudulent').apply(lambda x: x.isnull().mean() * 100)\n",
    "grouped_null_percentage = grouped_null_percentage.T.round(2)\n",
    "print(grouped_null_percentage)\n"
   ]
  },
  {
   "cell_type": "code",
   "execution_count": 3,
   "id": "94150417",
   "metadata": {},
   "outputs": [
    {
     "name": "stdout",
     "output_type": "stream",
     "text": [
      "Original shape: (17880, 18), Deduplicated shape: (17599, 18)\n"
     ]
    }
   ],
   "source": [
    "# Deduplicate based on all columns except 'job_id'\n",
    "df_dedup = df.drop_duplicates(subset=[col for col in df.columns if col != 'job_id'])\n",
    "print(f\"Original shape: {df.shape}, Deduplicated shape: {df_dedup.shape}\")"
   ]
  },
  {
   "cell_type": "code",
   "execution_count": 4,
   "id": "8303a51f",
   "metadata": {},
   "outputs": [
    {
     "name": "stdout",
     "output_type": "stream",
     "text": [
      "Found 527 duplicated rows (ignoring job_id and fraudulent).\n",
      "Number of groups with inconsistent 'fraudulent' labels: 0\n"
     ]
    }
   ],
   "source": [
    "# Columns to consider for identifying duplicates (ignore 'job_id' and 'fraudulent')\n",
    "cols_to_check = df.columns.difference(['job_id', 'fraudulent'])\n",
    "\n",
    "# Identify duplicates based on all columns except 'job_id' and 'fraudulent'\n",
    "dup_mask = df.duplicated(subset=cols_to_check, keep=False)\n",
    "df_duplicates = df[dup_mask].sort_values(by=list(cols_to_check))\n",
    "print(f\"Found {df_duplicates.shape[0]} duplicated rows (ignoring job_id and fraudulent).\")\n",
    "\n",
    "# Check if duplicated rows have consistent 'fraudulent' labels\n",
    "inconsistent_labels = df_duplicates.groupby(list(cols_to_check))['fraudulent'].nunique()\n",
    "inconsistent_count = (inconsistent_labels > 1).sum()\n",
    "print(f\"Number of groups with inconsistent 'fraudulent' labels: {inconsistent_count}\")\n"
   ]
  },
  {
   "cell_type": "markdown",
   "id": "45e73512",
   "metadata": {},
   "source": [
    "Presense of duplicated rows ignoring job_id & target label, duplicated rows all have the same target label"
   ]
  },
  {
   "cell_type": "code",
   "execution_count": null,
   "id": "3d494e04",
   "metadata": {},
   "outputs": [
    {
     "name": "stdout",
     "output_type": "stream",
     "text": [
      "fraudulent               0      1\n",
      "job_id                0.00   0.00\n",
      "title                 0.00   0.00\n",
      "location              1.92   2.19\n",
      "department           64.75  61.32\n",
      "salary_range         84.45  74.25\n",
      "company_profile      15.99  67.78\n",
      "description           0.00   0.12\n",
      "requirements         14.94  17.78\n",
      "benefits             40.25  42.03\n",
      "telecommuting         0.00   0.00\n",
      "has_company_logo      0.00   0.00\n",
      "has_questions         0.00   0.00\n",
      "employment_type      18.98  27.83\n",
      "required_experience  38.88  50.23\n",
      "required_education   44.99  52.08\n",
      "industry             27.20  31.76\n",
      "function             35.96  38.91\n",
      "fraudulent            0.00   0.00\n"
     ]
    }
   ],
   "source": []
  },
  {
   "cell_type": "code",
   "execution_count": 6,
   "id": "61b26114",
   "metadata": {},
   "outputs": [
    {
     "name": "stdout",
     "output_type": "stream",
     "text": [
      "                  telecommuting  has_company_logo  has_questions  fraudulent\n",
      "telecommuting          1.000000         -0.019836       0.020345    0.034523\n",
      "has_company_logo      -0.019836          1.000000       0.233932   -0.261971\n",
      "has_questions          0.020345          0.233932       1.000000   -0.091627\n",
      "fraudulent             0.034523         -0.261971      -0.091627    1.000000\n"
     ]
    }
   ],
   "source": [
    "# Binary check\n",
    "binary_cols = [col for col in df.columns if df[col].nunique() == 2]\n",
    "df_binary = df[binary_cols]\n",
    "df_binary = df_binary.apply(lambda x: x.map({'Yes': 1, 'No': 0, True: 1, False: 0}) \n",
    "                            if x.dtypes == 'object' else x)\n",
    "corr_matrix = df_binary.corr()\n",
    "print(corr_matrix)"
   ]
  },
  {
   "cell_type": "markdown",
   "id": "4136e3ed",
   "metadata": {},
   "source": [
    "Logo & Fraudulent inverse relationship"
   ]
  },
  {
   "cell_type": "code",
   "execution_count": 3,
   "id": "a117fb95",
   "metadata": {},
   "outputs": [],
   "source": [
    "# perform TD-IDF with job title and compare with fraudulent column\n",
    "from sklearn.feature_extraction.text import TfidfVectorizer\n",
    "tfidf = TfidfVectorizer(stop_words='english')\n",
    "tfidf_matrix = tfidf.fit_transform(df['title'].fillna(''))\n",
    "tfidf_df = pd.DataFrame(tfidf_matrix.toarray(), columns=tfidf.get_feature_names_out())\n",
    "tfidf_df['fraudulent'] = df['fraudulent'].values\n",
    "correlations = tfidf_df.corr()['fraudulent'].sort_values(ascending=False)"
   ]
  },
  {
   "cell_type": "code",
   "execution_count": 4,
   "id": "5e43fc8a",
   "metadata": {},
   "outputs": [
    {
     "name": "stdout",
     "output_type": "stream",
     "text": [
      "fraudulent    1.000000\n",
      "earn          0.183713\n",
      "payroll       0.183350\n",
      "entry         0.182795\n",
      "daily         0.181072\n",
      "                ...   \n",
      "designer     -0.036949\n",
      "abroad       -0.044762\n",
      "teacher      -0.047209\n",
      "english      -0.047576\n",
      "developer    -0.058592\n",
      "Name: fraudulent, Length: 4567, dtype: float64\n"
     ]
    }
   ],
   "source": [
    "# most common words in title associated with fraudulent job postings\n",
    "print(correlations)"
   ]
  }
 ],
 "metadata": {
  "kernelspec": {
   "display_name": "Python 3",
   "language": "python",
   "name": "python3"
  },
  "language_info": {
   "codemirror_mode": {
    "name": "ipython",
    "version": 3
   },
   "file_extension": ".py",
   "mimetype": "text/x-python",
   "name": "python",
   "nbconvert_exporter": "python",
   "pygments_lexer": "ipython3",
   "version": "3.10.11"
  }
 },
 "nbformat": 4,
 "nbformat_minor": 5
}
